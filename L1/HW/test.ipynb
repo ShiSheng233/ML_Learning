{
 "cells": [
  {
   "metadata": {
    "ExecuteTime": {
     "end_time": "2024-06-06T10:08:00.600586Z",
     "start_time": "2024-06-06T10:08:00.583238Z"
    }
   },
   "cell_type": "code",
   "source": "import pandas as pd",
   "id": "3edf5205d0be66a9",
   "outputs": [],
   "execution_count": 17
  },
  {
   "metadata": {
    "ExecuteTime": {
     "end_time": "2024-06-06T10:08:00.632442Z",
     "start_time": "2024-06-06T10:08:00.602090Z"
    }
   },
   "cell_type": "code",
   "source": "train_data, test_data = pd.read_csv('./covid.train.csv').values, pd.read_csv('./covid.test.csv').values",
   "id": "5bc6348dbe6552a3",
   "outputs": [],
   "execution_count": 18
  },
  {
   "metadata": {
    "ExecuteTime": {
     "end_time": "2024-06-06T10:08:00.662653Z",
     "start_time": "2024-06-06T10:08:00.633441Z"
    }
   },
   "cell_type": "code",
   "source": "allcol = pd.read_csv('./covid.train.csv').columns",
   "id": "ee4bb2da6100ba66",
   "outputs": [],
   "execution_count": 19
  },
  {
   "metadata": {
    "ExecuteTime": {
     "end_time": "2024-06-06T10:08:00.678132Z",
     "start_time": "2024-06-06T10:08:00.663654Z"
    }
   },
   "cell_type": "code",
   "source": "",
   "id": "ae2e55a52eb14495",
   "outputs": [],
   "execution_count": 19
  },
  {
   "metadata": {
    "ExecuteTime": {
     "end_time": "2024-06-06T10:08:00.693994Z",
     "start_time": "2024-06-06T10:08:00.679128Z"
    }
   },
   "cell_type": "code",
   "source": [
    "y_train = train_data[:, -1]\n",
    "raw_x_train = train_data[:, :-1]\n",
    "\n",
    "feat_column = [35, 37, 52, 53, 55, 70, 71, 73]\n",
    "\n",
    "# show column name from allcol\n",
    "print(allcol[feat_column])\n",
    "\n",
    "raw_x_train[:, feat_column]\n"
   ],
   "id": "146de9f5a65bd64f",
   "outputs": [
    {
     "name": "stdout",
     "output_type": "stream",
     "text": [
      "Index(['cli', 'wnohh_cmnty_cli', 'tested_positive', 'cli.1',\n",
      "       'wnohh_cmnty_cli.1', 'tested_positive.1', 'cli.2', 'wnohh_cmnty_cli.2'],\n",
      "      dtype='object')\n"
     ]
    },
    {
     "data": {
      "text/plain": [
       "array([[ 1.5094132, 18.5833623, 20.1492796, ..., 18.876155 ,  1.3081069,\n",
       "        17.1943118],\n",
       "       [ 1.4517979, 17.6843368, 18.876155 , ..., 18.4907873,  1.4066717,\n",
       "        16.7334421],\n",
       "       [ 1.3081069, 17.1943118, 18.4907873, ..., 16.3292532,  1.3810603,\n",
       "        16.5802584],\n",
       "       ...,\n",
       "       [ 1.049163 , 11.7646458,  6.4873101, ...,  6.1128271,  1.2572934,\n",
       "        12.2700853],\n",
       "       [ 1.2108806, 12.4150586,  6.1128271, ...,  6.1513938,  1.6478125,\n",
       "        13.5352652],\n",
       "       [ 1.2572934, 12.2700853,  6.1513938, ...,  7.1655801,  1.7046954,\n",
       "        13.017151 ]])"
      ]
     },
     "execution_count": 20,
     "metadata": {},
     "output_type": "execute_result"
    }
   ],
   "execution_count": 20
  }
 ],
 "metadata": {
  "kernelspec": {
   "display_name": "Python 3",
   "language": "python",
   "name": "python3"
  },
  "language_info": {
   "codemirror_mode": {
    "name": "ipython",
    "version": 2
   },
   "file_extension": ".py",
   "mimetype": "text/x-python",
   "name": "python",
   "nbconvert_exporter": "python",
   "pygments_lexer": "ipython2",
   "version": "2.7.6"
  }
 },
 "nbformat": 4,
 "nbformat_minor": 5
}
