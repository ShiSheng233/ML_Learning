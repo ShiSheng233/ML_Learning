{
 "cells": [
  {
   "cell_type": "code",
   "id": "initial_id",
   "metadata": {
    "collapsed": true,
    "ExecuteTime": {
     "end_time": "2024-06-08T05:02:33.629235Z",
     "start_time": "2024-06-08T05:02:32.041996Z"
    }
   },
   "source": "import torch",
   "outputs": [],
   "execution_count": 1
  },
  {
   "metadata": {},
   "cell_type": "markdown",
   "source": [
    "data is in `/libriphone`\n",
    "\n",
    "Training: 3429 preprocessed audio features w/ labels (total 2116794 frames)  \n",
    "Testing: 857 preprocessed audio features w/o labels (total 527364 frames)  \n",
    "Label: 41 classes, each class represents a phoneme"
   ],
   "id": "b549a10f9aa0f8eb"
  },
  {
   "metadata": {
    "ExecuteTime": {
     "end_time": "2024-06-08T05:02:33.644596Z",
     "start_time": "2024-06-08T05:02:33.631220Z"
    }
   },
   "cell_type": "code",
   "source": [
    "feat = torch.load('libriphone/feat/train/839-130898-0062.pt')\n",
    "feat"
   ],
   "id": "e0f4ef87aa353e3b",
   "outputs": [
    {
     "data": {
      "text/plain": [
       "tensor([[-1.4368, -0.2632,  0.1252,  ...,  0.8782,  0.5501,  0.2071],\n",
       "        [-1.4488, -0.3797,  0.1329,  ...,  0.4370,  0.3898,  0.4778],\n",
       "        [-1.4557, -0.3974,  0.3909,  ...,  0.5966,  0.1308, -0.0821],\n",
       "        ...,\n",
       "        [-0.7875, -0.6426, -0.6148,  ...,  0.8245,  0.6503,  0.6217],\n",
       "        [-0.8422, -0.5404, -0.6922,  ...,  0.3763, -0.0345, -0.4345],\n",
       "        [-0.8963, -0.7992, -1.0579,  ..., -0.2533, -0.7004, -0.9930]])"
      ]
     },
     "execution_count": 2,
     "metadata": {},
     "output_type": "execute_result"
    }
   ],
   "execution_count": 2
  },
  {
   "metadata": {
    "ExecuteTime": {
     "end_time": "2024-06-08T05:02:33.660083Z",
     "start_time": "2024-06-08T05:02:33.647577Z"
    }
   },
   "cell_type": "code",
   "source": "feat.shape",
   "id": "f86343c2c5eb5f1b",
   "outputs": [
    {
     "data": {
      "text/plain": [
       "torch.Size([577, 39])"
      ]
     },
     "execution_count": 3,
     "metadata": {},
     "output_type": "execute_result"
    }
   ],
   "execution_count": 3
  }
 ],
 "metadata": {
  "kernelspec": {
   "display_name": "Python 3",
   "language": "python",
   "name": "python3"
  },
  "language_info": {
   "codemirror_mode": {
    "name": "ipython",
    "version": 2
   },
   "file_extension": ".py",
   "mimetype": "text/x-python",
   "name": "python",
   "nbconvert_exporter": "python",
   "pygments_lexer": "ipython2",
   "version": "2.7.6"
  }
 },
 "nbformat": 4,
 "nbformat_minor": 5
}
