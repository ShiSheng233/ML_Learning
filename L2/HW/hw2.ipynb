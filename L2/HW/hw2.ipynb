{
 "cells": [
  {
   "cell_type": "markdown",
   "id": "5e4dec90ea0e9ced",
   "metadata": {},
   "source": [
    "# HW2"
   ]
  },
  {
   "metadata": {},
   "cell_type": "code",
   "outputs": [],
   "execution_count": null,
   "source": [
    "# for colab\n",
    "!wget https://oss.shisheng.icu/ml2023spring-hw2.zip\n",
    "!unzip ml2023spring-hw2.zip"
   ],
   "id": "8976634536f8670d"
  },
  {
   "cell_type": "markdown",
   "id": "a885858d9f39f234",
   "metadata": {},
   "source": [
    "## Libs"
   ]
  },
  {
   "cell_type": "code",
   "id": "initial_id",
   "metadata": {
    "collapsed": true,
    "jupyter": {
     "outputs_hidden": true,
     "is_executing": true
    }
   },
   "source": [
    "import numpy as np\n",
    "import torch\n",
    "import torch.nn as nn\n",
    "from torch.utils.data import Dataset\n",
    "import random\n",
    "import os\n",
    "from tqdm import tqdm\n",
    "import gc"
   ],
   "outputs": [],
   "execution_count": null
  },
  {
   "cell_type": "markdown",
   "id": "55ebc0159c1fb4f0",
   "metadata": {},
   "source": [
    "## Utils"
   ]
  },
  {
   "cell_type": "code",
   "id": "a0acf1289223672",
   "metadata": {
    "jupyter": {
     "is_executing": true
    }
   },
   "source": [
    "def same_seeds(seed):\n",
    "    random.seed(seed)\n",
    "    np.random.seed(seed)\n",
    "    torch.manual_seed(seed)\n",
    "    if torch.cuda.is_available():\n",
    "        torch.cuda.manual_seed(seed)\n",
    "        torch.cuda.manual_seed_all(seed)\n",
    "    torch.backends.cudnn.benchmark = False\n",
    "    torch.backends.cudnn.deterministic = True"
   ],
   "outputs": [],
   "execution_count": null
  },
  {
   "cell_type": "markdown",
   "id": "5663c929baa9e439",
   "metadata": {},
   "source": [
    "## Feature Processing"
   ]
  },
  {
   "cell_type": "code",
   "id": "9e4cfee5ec3e0cf8",
   "metadata": {
    "jupyter": {
     "is_executing": true
    }
   },
   "source": [
    "def load_feature(feat_path):\n",
    "    features = torch.load(feat_path)\n",
    "    return features\n",
    "\n",
    "\n",
    "def shift(x, n):\n",
    "    if n < 0:\n",
    "        left = x[0].repeat(-n, 1)\n",
    "        right = x[:n]\n",
    "    elif n > 0:\n",
    "        right = x[-1].repeat(n, 1)\n",
    "        left = x[n:]\n",
    "    else:\n",
    "        return x\n",
    "\n",
    "    return torch.cat((left, right), dim=0)\n",
    "\n",
    "\n",
    "def concat_feat(x, concat_n):\n",
    "    assert concat_n % 2 == 1  # n must be odd\n",
    "    if concat_n < 2:\n",
    "        return x\n",
    "    seq_len, feature_dim = x.size(0), x.size(1)\n",
    "    x = x.repeat(1, concat_n)\n",
    "    x = x.view(seq_len, concat_n, feature_dim).permute(1, 0, 2)  # concat_n, seq_len, feature_dim\n",
    "    mid = (concat_n // 2)\n",
    "    for r_idx in range(1, mid + 1):\n",
    "        x[mid + r_idx, :] = shift(x[mid + r_idx], r_idx)\n",
    "        x[mid - r_idx, :] = shift(x[mid - r_idx], -r_idx)\n",
    "\n",
    "    return x.permute(1, 0, 2).view(seq_len, concat_n * feature_dim)"
   ],
   "outputs": [],
   "execution_count": null
  },
  {
   "cell_type": "code",
   "id": "60307d930eacca86",
   "metadata": {
    "jupyter": {
     "is_executing": true
    }
   },
   "source": [
    "def preprocess_data(split, feat_dir, phone_path, concat_nframes, train_ratio=0.8):\n",
    "    class_num = 41  # 41 different phonemes in dataset\n",
    "\n",
    "    # determine mode\n",
    "    if split == 'train' or split == 'val':\n",
    "        mode = 'train'\n",
    "    elif split == 'test':\n",
    "        mode = 'test'\n",
    "\n",
    "    label_dict = {}\n",
    "\n",
    "    if mode == 'train':\n",
    "        for line in open(os.path.join(phone_path, 'train_labels.txt')).readlines():\n",
    "            line = line.strip('\\n').split(' ')\n",
    "            label_dict[line[0]] = [int(p) for p in line[1:]]\n",
    "\n",
    "        # split training and validation data\n",
    "        usage_list = open(os.path.join(phone_path, 'train_split.txt')).readlines()\n",
    "        random.shuffle(usage_list)\n",
    "        train_len = int(len(usage_list) * train_ratio)\n",
    "        usage_list = usage_list[:train_len] if split == 'train' else usage_list[train_len:]\n",
    "    elif mode == 'test':\n",
    "        usage_list = open(os.path.join(phone_path, 'test_split.txt')).readlines()\n",
    "\n",
    "    usage_list = [line.strip('\\n') for line in usage_list]\n",
    "    print('[Dataset] phone classes: ' + str(class_num) + ', number of utterances for ' + split + ': ' + str(\n",
    "        len(usage_list)))\n",
    "\n",
    "    max_len = 3000000\n",
    "    X = torch.empty(max_len, 39 * concat_nframes)  # X for features\n",
    "    if mode == 'train':\n",
    "        y = torch.empty(max_len, dtype=torch.long)  # y for labels(training mode only)\n",
    "\n",
    "    idx = 0\n",
    "    for i, feature_name in tqdm(enumerate(usage_list)):\n",
    "        feat = load_feature(os.path.join(feat_dir, mode, f'{feature_name}.pt'))\n",
    "        cur_len = len(feat)\n",
    "        feat = concat_feat(feat, concat_nframes)\n",
    "        if mode == 'train':\n",
    "            label = torch.LongTensor(label_dict[feature_name])\n",
    "\n",
    "        X[idx: idx + cur_len, :] = feat\n",
    "        if mode == 'train':\n",
    "            y[idx: idx + cur_len] = label\n",
    "\n",
    "        idx += cur_len\n",
    "\n",
    "    X = X[:idx, :]\n",
    "    if mode == 'train':\n",
    "        y = y[:idx]\n",
    "\n",
    "    print(f'[INFO] {split} set')\n",
    "    print(X.shape)\n",
    "    if mode == 'train':\n",
    "        print(y.shape)\n",
    "        return X, y\n",
    "    else:\n",
    "        return X"
   ],
   "outputs": [],
   "execution_count": null
  },
  {
   "cell_type": "markdown",
   "id": "dab093e4ef254f08",
   "metadata": {},
   "source": [
    "## Dataset and Model\n",
    "\n",
    "I tried to use LSTM\n",
    "\n",
    "Reference:  \n",
    "<https://wandb.ai/sauravmaheshkar/LSTM-PyTorch/reports/Using-LSTM-in-PyTorch-A-Tutorial-With-Examples--VmlldzoxMDA2NTA5>\n",
    "<https://pytorch.org/docs/stable/generated/torch.nn.LSTM.html>"
   ]
  },
  {
   "cell_type": "code",
   "execution_count": null,
   "id": "a4a2a1025d4622c3",
   "metadata": {},
   "outputs": [],
   "source": [
    "class LibriphoneDataset(Dataset):\n",
    "    def __init__(self, X, y=None):\n",
    "        self.data = X\n",
    "        if y is not None:\n",
    "            self.label = torch.LongTensor(y)\n",
    "        else:\n",
    "            self.label = None\n",
    "\n",
    "    def __getitem__(self, idx):\n",
    "        if self.label is not None:\n",
    "            return self.data[idx], self.label[idx]\n",
    "        else:\n",
    "            return self.data[idx]\n",
    "\n",
    "    def __len__(self):\n",
    "        return len(self.data)"
   ]
  },
  {
   "cell_type": "code",
   "execution_count": null,
   "id": "df0ff8b3a550a392",
   "metadata": {},
   "outputs": [],
   "source": [
    "class LSTMClassifier(nn.Module):\n",
    "    def __init__(self, input_dim, output_dim=41, hidden_layers=4, hidden_dim=256, batch_size = 8):\n",
    "        super(LSTMClassifier, self).__init__()\n",
    "        self.input_dim = input_dim\n",
    "        self.batch_size = batch_size\n",
    "        self.hidden_dim = hidden_dim\n",
    "        self.hidden_layers = hidden_layers\n",
    "        \n",
    "        # input\n",
    "        self.fc = nn.Sequential(\n",
    "            nn.Linear(input_dim, hidden_dim),\n",
    "            nn.ReLU()\n",
    "        )\n",
    "        \n",
    "        # lstm\n",
    "        self.lstm = nn.LSTM(hidden_dim, hidden_dim, hidden_layers, batch_first=True)\n",
    "        \n",
    "        # output\n",
    "        self.bc = nn.Sequential(\n",
    "            nn.Linear(hidden_dim, output_dim)\n",
    "        )\n",
    "\n",
    "\n",
    "    def forward(self, x):\n",
    "        x = self.fc(x)\n",
    "        out, _ = self.lstm(x)\n",
    "        out = self.bc(out)\n",
    "        return out"
   ]
  },
  {
   "cell_type": "markdown",
   "id": "ce7108a480bec809",
   "metadata": {},
   "source": [
    "## Hyperparameters"
   ]
  },
  {
   "cell_type": "code",
   "execution_count": null,
   "id": "91b0208ce2eb503a",
   "metadata": {},
   "outputs": [],
   "source": [
    "# data\n",
    "concat_nframes = 11\n",
    "train_ratio = 0.8\n",
    "\n",
    "# model\n",
    "input_dim = 39 * concat_nframes\n",
    "hidden_layers = 4\n",
    "hidden_dim = 64\n",
    "\n",
    "# training\n",
    "seed = 721\n",
    "batch_size = 8\n",
    "target_epochs = 1\n",
    "learning_rate = 1e-3\n",
    "model_path = './model.ckpt'\n",
    "\n",
    "# others\n",
    "same_seeds(seed)\n",
    "device = 'cuda' if torch.cuda.is_available() else 'cpu'\n",
    "print(f'DEVICE: {device}')"
   ]
  },
  {
   "cell_type": "markdown",
   "id": "ef7fd29f86498659",
   "metadata": {},
   "source": [
    "## Load Data"
   ]
  },
  {
   "cell_type": "code",
   "execution_count": null,
   "id": "30a53ebdd4d07dae",
   "metadata": {},
   "outputs": [],
   "source": [
    "# train set\n",
    "train_X, train_y = preprocess_data(split='train', feat_dir='libriphone\\\\feat', phone_path='libriphone', concat_nframes=concat_nframes, train_ratio=train_ratio)\n",
    "train_dataset = LibriphoneDataset(train_X, train_y)\n",
    "\n",
    "# val set\n",
    "val_X, val_y = preprocess_data(split='val', feat_dir='libriphone\\\\feat', phone_path='libriphone', concat_nframes=concat_nframes, train_ratio=train_ratio)\n",
    "val_dataset = LibriphoneDataset(val_X, val_y)\n",
    "\n",
    "# free memory\n",
    "del train_X, train_y, val_X, val_y\n",
    "gc.collect()"
   ]
  },
  {
   "cell_type": "code",
   "execution_count": null,
   "id": "5a625aa35b024f53",
   "metadata": {},
   "outputs": [],
   "source": [
    "train_loader = torch.utils.data.DataLoader(train_dataset, batch_size=batch_size, shuffle=True)\n",
    "val_loader = torch.utils.data.DataLoader(val_dataset, batch_size=batch_size, shuffle=False)"
   ]
  },
  {
   "cell_type": "markdown",
   "id": "87a99228b6c4ae67",
   "metadata": {},
   "source": [
    "## Train"
   ]
  },
  {
   "cell_type": "code",
   "execution_count": null,
   "id": "426640d146a74c01",
   "metadata": {},
   "outputs": [],
   "source": [
    "model = LSTMClassifier(input_dim=input_dim, hidden_layers=hidden_layers, hidden_dim=hidden_dim).to(device)\n",
    "criterion = nn.CrossEntropyLoss()\n",
    "optimizer = torch.optim.Adam(model.parameters(), lr=learning_rate)\n",
    "\n",
    "best_acc = 0.0\n",
    "for epoch in range(target_epochs):\n",
    "    train_acc, train_loss, val_acc, val_loss = 0.0, 0.0, 0.0, 0.0\n",
    "    \n",
    "    # training\n",
    "    model.train()\n",
    "    for i, batch in enumerate(tqdm(train_loader)):\n",
    "        features, labels = batch\n",
    "        features = features.to(device)\n",
    "        labels = labels.to(device)\n",
    "        \n",
    "        optimizer.zero_grad() \n",
    "        outputs = model(features) \n",
    "        \n",
    "        loss = criterion(outputs, labels)\n",
    "        loss.backward() \n",
    "        optimizer.step() \n",
    "        \n",
    "        _, train_pred = torch.max(outputs, 1) # get the index of the class with the highest probability\n",
    "        train_acc += (train_pred.detach() == labels.detach()).sum().item()\n",
    "        train_loss += loss.item()\n",
    "    \n",
    "    # validation\n",
    "    model.eval()\n",
    "    with torch.no_grad():\n",
    "        for i, batch in enumerate(tqdm(val_loader)):\n",
    "            features, labels = batch\n",
    "            features = features.to(device)\n",
    "            labels = labels.to(device)\n",
    "            outputs = model(features)\n",
    "            \n",
    "            loss = criterion(outputs, labels) \n",
    "            \n",
    "            _, val_pred = torch.max(outputs, 1) \n",
    "            val_acc += (val_pred.cpu() == labels.cpu()).sum().item() # get the index of the class with the highest probability\n",
    "            val_loss += loss.item()\n",
    "\n",
    "    print('[Epoch %d/%d] Train Acc: %.3f, Train Loss: %.3f | Val Acc: %.3f, Val Loss: %.3f' % \\\n",
    "          (epoch + 1, target_epochs, train_acc/len(train_dataset), train_loss/len(train_loader), val_acc/len(val_dataset), val_loss/len(val_loader)))\n",
    "\n",
    "    # if the model improves, save a checkpoint at this epoch\n",
    "    if val_acc > best_acc:\n",
    "        best_acc = val_acc\n",
    "        torch.save(model.state_dict(), model_path)\n",
    "        print(f'saving model with acc {best_acc/len(val_dataset):.5f}')"
   ]
  },
  {
   "cell_type": "code",
   "execution_count": null,
   "id": "a8c751835d0a95f7",
   "metadata": {},
   "outputs": [],
   "source": [
    "del train_dataset, val_dataset\n",
    "del train_loader, val_loader\n",
    "gc.collect()"
   ]
  },
  {
   "cell_type": "markdown",
   "id": "9b43056449b8a44a",
   "metadata": {},
   "source": [
    "## Test"
   ]
  },
  {
   "cell_type": "code",
   "execution_count": null,
   "id": "e7479494f83533bd",
   "metadata": {},
   "outputs": [],
   "source": [
    "# load test data\n",
    "test_X = preprocess_data(split='test', feat_dir='/libriphone/feat', phone_path='/libriphone', concat_nframes=concat_nframes)\n",
    "test_set = LibriphoneDataset(test_X)\n",
    "test_loader = torch.utils.data.DataLoader(test_set, batch_size=batch_size, shuffle=False)\n",
    "\n",
    "# load model\n",
    "model = LSTMClassifier(input_dim=input_dim, hidden_layers=hidden_layers, hidden_dim=hidden_dim).to(device)\n",
    "model.load_state_dict(torch.load(model_path))\n",
    "\n",
    "# make prediction\n",
    "model.eval()\n",
    "pred = np.array([], dtype=np.int32)\n",
    "with torch.no_grad():\n",
    "    for i, batch in enumerate(tqdm(test_loader)):\n",
    "        features = batch\n",
    "        features = features.to(device)\n",
    "        outputs = model(features)\n",
    "        \n",
    "        _, test_pred = torch.max(outputs, 1)\n",
    "        pred = np.concatenate((pred, test_pred.cpu().numpy()), axis=0)\n",
    "        \n",
    "with open('prediction.csv', 'w') as f:\n",
    "    f.write('Id,Class\\n')\n",
    "    for i, y in enumerate(pred):\n",
    "        f.write('{},{}\\n'.format(i, y))"
   ]
  }
 ],
 "metadata": {
  "kernelspec": {
   "display_name": "Python 3 (ipykernel)",
   "language": "python",
   "name": "python3"
  },
  "language_info": {
   "codemirror_mode": {
    "name": "ipython",
    "version": 3
   },
   "file_extension": ".py",
   "mimetype": "text/x-python",
   "name": "python",
   "nbconvert_exporter": "python",
   "pygments_lexer": "ipython3",
   "version": "3.9.19"
  }
 },
 "nbformat": 4,
 "nbformat_minor": 5
}
